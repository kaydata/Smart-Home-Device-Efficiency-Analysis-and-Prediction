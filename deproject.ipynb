{
 "cells": [
  {
   "cell_type": "markdown",
   "id": "917f4624-ef49-4b26-8100-8c8653ae4923",
   "metadata": {},
   "source": [
    "# SMART HOME ENERGY ANALYSIS"
   ]
  },
  {
   "cell_type": "code",
   "execution_count": 2,
   "id": "beb3259a-a254-4410-ba98-fb2b0c131b4d",
   "metadata": {},
   "outputs": [],
   "source": [
    "import pandas as pd\n",
    "import numpy as np\n",
    "import matplotlib.pyplot as plt\n",
    "import seaborn as sns"
   ]
  },
  {
   "cell_type": "code",
   "execution_count": 3,
   "id": "71ef67fc-29a2-47b4-a32e-9ec6379ea974",
   "metadata": {},
   "outputs": [],
   "source": [
    "!pip install kaggle -q"
   ]
  },
  {
   "cell_type": "code",
   "execution_count": 4,
   "id": "880e30f6-b7c6-4731-88ca-9f6702b3a33b",
   "metadata": {},
   "outputs": [
    {
     "name": "stdout",
     "output_type": "stream",
     "text": [
      "Dataset URL: https://www.kaggle.com/datasets/rabieelkharoua/predict-smart-home-device-efficiency-dataset\n",
      "License(s): Attribution 4.0 International (CC BY 4.0)\n",
      "smart_home_device_usage_data.csv: Skipping, found more recently modified local copy (use --force to force download)\n"
     ]
    }
   ],
   "source": [
    "# Download data using kaggle API\n",
    "!kaggle datasets download rabieelkharoua/predict-smart-home-device-efficiency-dataset -f smart_home_device_usage_data.csv"
   ]
  },
  {
   "cell_type": "markdown",
   "id": "f9c48d27-d11a-49cb-8c6d-31793f1042b9",
   "metadata": {},
   "source": [
    "## Load and Read data"
   ]
  },
  {
   "cell_type": "code",
   "execution_count": 6,
   "id": "c206e808-400a-45b2-94db-60072a6cb2dd",
   "metadata": {},
   "outputs": [],
   "source": [
    "\n",
    "df=pd.read_csv('smart_home_device_usage_data.csv')"
   ]
  },
  {
   "cell_type": "code",
   "execution_count": 7,
   "id": "9fb6469e-07c9-40f5-ab0a-196310f0f6a9",
   "metadata": {},
   "outputs": [
    {
     "data": {
      "text/html": [
       "<div>\n",
       "<style scoped>\n",
       "    .dataframe tbody tr th:only-of-type {\n",
       "        vertical-align: middle;\n",
       "    }\n",
       "\n",
       "    .dataframe tbody tr th {\n",
       "        vertical-align: top;\n",
       "    }\n",
       "\n",
       "    .dataframe thead th {\n",
       "        text-align: right;\n",
       "    }\n",
       "</style>\n",
       "<table border=\"1\" class=\"dataframe\">\n",
       "  <thead>\n",
       "    <tr style=\"text-align: right;\">\n",
       "      <th></th>\n",
       "      <th>UserID</th>\n",
       "      <th>DeviceType</th>\n",
       "      <th>UsageHoursPerDay</th>\n",
       "      <th>EnergyConsumption</th>\n",
       "      <th>UserPreferences</th>\n",
       "      <th>MalfunctionIncidents</th>\n",
       "      <th>DeviceAgeMonths</th>\n",
       "      <th>SmartHomeEfficiency</th>\n",
       "    </tr>\n",
       "  </thead>\n",
       "  <tbody>\n",
       "    <tr>\n",
       "      <th>0</th>\n",
       "      <td>1</td>\n",
       "      <td>Smart Speaker</td>\n",
       "      <td>15.307188</td>\n",
       "      <td>1.961607</td>\n",
       "      <td>1</td>\n",
       "      <td>4</td>\n",
       "      <td>36</td>\n",
       "      <td>1</td>\n",
       "    </tr>\n",
       "    <tr>\n",
       "      <th>1</th>\n",
       "      <td>2</td>\n",
       "      <td>Camera</td>\n",
       "      <td>19.973343</td>\n",
       "      <td>8.610689</td>\n",
       "      <td>1</td>\n",
       "      <td>0</td>\n",
       "      <td>29</td>\n",
       "      <td>1</td>\n",
       "    </tr>\n",
       "    <tr>\n",
       "      <th>2</th>\n",
       "      <td>3</td>\n",
       "      <td>Security System</td>\n",
       "      <td>18.911535</td>\n",
       "      <td>2.651777</td>\n",
       "      <td>1</td>\n",
       "      <td>0</td>\n",
       "      <td>20</td>\n",
       "      <td>1</td>\n",
       "    </tr>\n",
       "    <tr>\n",
       "      <th>3</th>\n",
       "      <td>4</td>\n",
       "      <td>Camera</td>\n",
       "      <td>7.011127</td>\n",
       "      <td>2.341653</td>\n",
       "      <td>0</td>\n",
       "      <td>3</td>\n",
       "      <td>15</td>\n",
       "      <td>0</td>\n",
       "    </tr>\n",
       "    <tr>\n",
       "      <th>4</th>\n",
       "      <td>5</td>\n",
       "      <td>Camera</td>\n",
       "      <td>22.610684</td>\n",
       "      <td>4.859069</td>\n",
       "      <td>1</td>\n",
       "      <td>3</td>\n",
       "      <td>36</td>\n",
       "      <td>1</td>\n",
       "    </tr>\n",
       "  </tbody>\n",
       "</table>\n",
       "</div>"
      ],
      "text/plain": [
       "   UserID       DeviceType  UsageHoursPerDay  EnergyConsumption  \\\n",
       "0       1    Smart Speaker         15.307188           1.961607   \n",
       "1       2           Camera         19.973343           8.610689   \n",
       "2       3  Security System         18.911535           2.651777   \n",
       "3       4           Camera          7.011127           2.341653   \n",
       "4       5           Camera         22.610684           4.859069   \n",
       "\n",
       "   UserPreferences  MalfunctionIncidents  DeviceAgeMonths  SmartHomeEfficiency  \n",
       "0                1                     4               36                    1  \n",
       "1                1                     0               29                    1  \n",
       "2                1                     0               20                    1  \n",
       "3                0                     3               15                    0  \n",
       "4                1                     3               36                    1  "
      ]
     },
     "execution_count": 7,
     "metadata": {},
     "output_type": "execute_result"
    }
   ],
   "source": [
    "df.head()"
   ]
  },
  {
   "cell_type": "code",
   "execution_count": 8,
   "id": "30ed460f-51a3-4f00-8822-07f7fd6b3b3a",
   "metadata": {},
   "outputs": [
    {
     "data": {
      "text/plain": [
       "UserID                  0\n",
       "DeviceType              0\n",
       "UsageHoursPerDay        0\n",
       "EnergyConsumption       0\n",
       "UserPreferences         0\n",
       "MalfunctionIncidents    0\n",
       "DeviceAgeMonths         0\n",
       "SmartHomeEfficiency     0\n",
       "dtype: int64"
      ]
     },
     "execution_count": 8,
     "metadata": {},
     "output_type": "execute_result"
    }
   ],
   "source": [
    "# CHECK FOR MISSING VALUES\n",
    "df.isnull().sum()"
   ]
  },
  {
   "cell_type": "code",
   "execution_count": 9,
   "id": "517db651-1a85-4e41-aa7c-88e60e30b604",
   "metadata": {},
   "outputs": [
    {
     "data": {
      "text/plain": [
       "['UserID',\n",
       " 'DeviceType',\n",
       " 'UsageHoursPerDay',\n",
       " 'EnergyConsumption',\n",
       " 'UserPreferences',\n",
       " 'MalfunctionIncidents',\n",
       " 'DeviceAgeMonths',\n",
       " 'SmartHomeEfficiency']"
      ]
     },
     "execution_count": 9,
     "metadata": {},
     "output_type": "execute_result"
    }
   ],
   "source": [
    "df.columns.to_list()"
   ]
  },
  {
   "cell_type": "raw",
   "id": "7a95edce-6fc6-4120-8b09-9dfb0a75b279",
   "metadata": {},
   "source": [
    "Features:\n",
    "UserID: Unique identifier for each user.\n",
    "DeviceType: Type of smart home device (e.g., Lights, Thermostat).\n",
    "UsageHoursPerDay: Average hours per day the device is used.\n",
    "EnergyConsumption: Daily energy consumption of the device (kWh).\n",
    "UserPreferences: User preference for device usage (0 - Low, 1 - High).\n",
    "MalfunctionIncidents: Number of malfunction incidents reported.\n",
    "DeviceAgeMonths: Age of the device in months.\n",
    "SmartHomeEfficiency (Target Variable): Efficiency status of the smart home device (0 - Inefficient, 1 - Efficient).cient)."
   ]
  },
  {
   "cell_type": "code",
   "execution_count": 10,
   "id": "d398b2e9-497c-4c6f-bfaa-16fc799c66cb",
   "metadata": {},
   "outputs": [
    {
     "data": {
      "text/plain": [
       "UserID                    int64\n",
       "DeviceType               object\n",
       "UsageHoursPerDay        float64\n",
       "EnergyConsumption       float64\n",
       "UserPreferences           int64\n",
       "MalfunctionIncidents      int64\n",
       "DeviceAgeMonths           int64\n",
       "SmartHomeEfficiency       int64\n",
       "dtype: object"
      ]
     },
     "execution_count": 10,
     "metadata": {},
     "output_type": "execute_result"
    }
   ],
   "source": [
    "df.dtypes"
   ]
  },
  {
   "cell_type": "markdown",
   "id": "ac4962cc-1944-421a-a724-be7f8093fcd9",
   "metadata": {},
   "source": [
    "# Exploratory Data Analytics"
   ]
  },
  {
   "cell_type": "code",
   "execution_count": 12,
   "id": "9d1a95f6-9230-49bb-8702-f7480e5ab792",
   "metadata": {},
   "outputs": [
    {
     "data": {
      "text/html": [
       "<div>\n",
       "<style scoped>\n",
       "    .dataframe tbody tr th:only-of-type {\n",
       "        vertical-align: middle;\n",
       "    }\n",
       "\n",
       "    .dataframe tbody tr th {\n",
       "        vertical-align: top;\n",
       "    }\n",
       "\n",
       "    .dataframe thead th {\n",
       "        text-align: right;\n",
       "    }\n",
       "</style>\n",
       "<table border=\"1\" class=\"dataframe\">\n",
       "  <thead>\n",
       "    <tr style=\"text-align: right;\">\n",
       "      <th></th>\n",
       "      <th>UserID</th>\n",
       "      <th>UsageHoursPerDay</th>\n",
       "      <th>EnergyConsumption</th>\n",
       "      <th>UserPreferences</th>\n",
       "      <th>MalfunctionIncidents</th>\n",
       "      <th>DeviceAgeMonths</th>\n",
       "      <th>SmartHomeEfficiency</th>\n",
       "    </tr>\n",
       "  </thead>\n",
       "  <tbody>\n",
       "    <tr>\n",
       "      <th>count</th>\n",
       "      <td>5403.000000</td>\n",
       "      <td>5403.000000</td>\n",
       "      <td>5403.000000</td>\n",
       "      <td>5403.000000</td>\n",
       "      <td>5403.000000</td>\n",
       "      <td>5403.000000</td>\n",
       "      <td>5403.000000</td>\n",
       "    </tr>\n",
       "    <tr>\n",
       "      <th>mean</th>\n",
       "      <td>2702.000000</td>\n",
       "      <td>12.052992</td>\n",
       "      <td>5.054302</td>\n",
       "      <td>0.511753</td>\n",
       "      <td>2.066445</td>\n",
       "      <td>30.312234</td>\n",
       "      <td>0.376643</td>\n",
       "    </tr>\n",
       "    <tr>\n",
       "      <th>std</th>\n",
       "      <td>1559.856083</td>\n",
       "      <td>6.714961</td>\n",
       "      <td>2.878941</td>\n",
       "      <td>0.499908</td>\n",
       "      <td>1.423291</td>\n",
       "      <td>16.990525</td>\n",
       "      <td>0.484589</td>\n",
       "    </tr>\n",
       "    <tr>\n",
       "      <th>min</th>\n",
       "      <td>1.000000</td>\n",
       "      <td>0.501241</td>\n",
       "      <td>0.101562</td>\n",
       "      <td>0.000000</td>\n",
       "      <td>0.000000</td>\n",
       "      <td>1.000000</td>\n",
       "      <td>0.000000</td>\n",
       "    </tr>\n",
       "    <tr>\n",
       "      <th>25%</th>\n",
       "      <td>1351.500000</td>\n",
       "      <td>6.297871</td>\n",
       "      <td>2.524968</td>\n",
       "      <td>0.000000</td>\n",
       "      <td>1.000000</td>\n",
       "      <td>15.000000</td>\n",
       "      <td>0.000000</td>\n",
       "    </tr>\n",
       "    <tr>\n",
       "      <th>50%</th>\n",
       "      <td>2702.000000</td>\n",
       "      <td>11.903768</td>\n",
       "      <td>5.007047</td>\n",
       "      <td>1.000000</td>\n",
       "      <td>2.000000</td>\n",
       "      <td>30.000000</td>\n",
       "      <td>0.000000</td>\n",
       "    </tr>\n",
       "    <tr>\n",
       "      <th>75%</th>\n",
       "      <td>4052.500000</td>\n",
       "      <td>17.791751</td>\n",
       "      <td>7.611912</td>\n",
       "      <td>1.000000</td>\n",
       "      <td>3.000000</td>\n",
       "      <td>45.000000</td>\n",
       "      <td>1.000000</td>\n",
       "    </tr>\n",
       "    <tr>\n",
       "      <th>max</th>\n",
       "      <td>5403.000000</td>\n",
       "      <td>23.987326</td>\n",
       "      <td>9.998071</td>\n",
       "      <td>1.000000</td>\n",
       "      <td>4.000000</td>\n",
       "      <td>59.000000</td>\n",
       "      <td>1.000000</td>\n",
       "    </tr>\n",
       "  </tbody>\n",
       "</table>\n",
       "</div>"
      ],
      "text/plain": [
       "            UserID  UsageHoursPerDay  EnergyConsumption  UserPreferences  \\\n",
       "count  5403.000000       5403.000000        5403.000000      5403.000000   \n",
       "mean   2702.000000         12.052992           5.054302         0.511753   \n",
       "std    1559.856083          6.714961           2.878941         0.499908   \n",
       "min       1.000000          0.501241           0.101562         0.000000   \n",
       "25%    1351.500000          6.297871           2.524968         0.000000   \n",
       "50%    2702.000000         11.903768           5.007047         1.000000   \n",
       "75%    4052.500000         17.791751           7.611912         1.000000   \n",
       "max    5403.000000         23.987326           9.998071         1.000000   \n",
       "\n",
       "       MalfunctionIncidents  DeviceAgeMonths  SmartHomeEfficiency  \n",
       "count           5403.000000      5403.000000          5403.000000  \n",
       "mean               2.066445        30.312234             0.376643  \n",
       "std                1.423291        16.990525             0.484589  \n",
       "min                0.000000         1.000000             0.000000  \n",
       "25%                1.000000        15.000000             0.000000  \n",
       "50%                2.000000        30.000000             0.000000  \n",
       "75%                3.000000        45.000000             1.000000  \n",
       "max                4.000000        59.000000             1.000000  "
      ]
     },
     "execution_count": 12,
     "metadata": {},
     "output_type": "execute_result"
    }
   ],
   "source": [
    "df_summary = df.describe()\n",
    "df_summary"
   ]
  },
  {
   "cell_type": "markdown",
   "id": "fb642975-2446-4aa1-9f00-e04022b7a092",
   "metadata": {},
   "source": [
    "#### Visualization"
   ]
  },
  {
   "cell_type": "code",
   "execution_count": 14,
   "id": "6f33b683-91af-46bf-96bd-5a3ebd265ff6",
   "metadata": {},
   "outputs": [
    {
     "data": {
      "image/png": "[encoded data removed]",
      "text/plain": [
       "<Figure size 1200x1000 with 4 Axes>"
      ]
     },
     "metadata": {},
     "output_type": "display_data"
    }
   ],
   "source": [
    "plt.style.use('ggplot')\n",
    "fig,axes =plt.subplots(2,2, figsize=(12,10))\n",
    "\n",
    "#Histogram for UsageHoursPerDay\n",
    "axes[0,0].hist(df['UsageHoursPerDay'], bins=20, color='skyblue')\n",
    "axes[0,0].set_title('Usage Hours Per Day')\n",
    "axes[0,0].set_xlabel('Hours')\n",
    "axes[0,0].set_ylabel('Frequency')\n",
    "\n",
    "# Histogram for EnergyConsumption\n",
    "axes[0, 1].hist(df['EnergyConsumption'], bins=20, color='salmon')\n",
    "axes[0, 1].set_title('Energy Consumption')\n",
    "axes[0, 1].set_xlabel('kWh')\n",
    "axes[0, 1].set_ylabel('Frequency')\n",
    "\n",
    "# Histogram for DeviceAgeMonths\n",
    "axes[1, 0].hist(df['DeviceAgeMonths'], bins=20, color='lightgreen')\n",
    "axes[1, 0].set_title('Device Age (Months)')\n",
    "axes[1, 0].set_xlabel('Months')\n",
    "axes[1, 0].set_ylabel('Frequency')\n",
    "\n",
    "# Histogram for MalfunctionIncidents\n",
    "axes[1, 1].hist(df['MalfunctionIncidents'], bins=5, color='orange')\n",
    "axes[1, 1].set_title('Malfunction Incidents')\n",
    "axes[1, 1].set_xlabel('Incidents')\n",
    "axes[1, 1].set_ylabel('Frequency')\n",
    "\n",
    "plt.tight_layout()\n",
    "plt.show()\n"
   ]
  },
  {
   "cell_type": "markdown",
   "id": "ebc0af9f-e147-4137-a41e-3f20dc59a523",
   "metadata": {},
   "source": [
    "### Correlation Matrix"
   ]
  },
  {
   "cell_type": "code",
   "execution_count": 16,
   "id": "7525f57f-6562-46ba-9773-4586db8f4a10",
   "metadata": {},
   "outputs": [
    {
     "data": {
      "text/html": [
       "<div>\n",
       "<style scoped>\n",
       "    .dataframe tbody tr th:only-of-type {\n",
       "        vertical-align: middle;\n",
       "    }\n",
       "\n",
       "    .dataframe tbody tr th {\n",
       "        vertical-align: top;\n",
       "    }\n",
       "\n",
       "    .dataframe thead th {\n",
       "        text-align: right;\n",
       "    }\n",
       "</style>\n",
       "<table border=\"1\" class=\"dataframe\">\n",
       "  <thead>\n",
       "    <tr style=\"text-align: right;\">\n",
       "      <th></th>\n",
       "      <th>UserID</th>\n",
       "      <th>UsageHoursPerDay</th>\n",
       "      <th>EnergyConsumption</th>\n",
       "      <th>UserPreferences</th>\n",
       "      <th>MalfunctionIncidents</th>\n",
       "      <th>DeviceAgeMonths</th>\n",
       "      <th>SmartHomeEfficiency</th>\n",
       "    </tr>\n",
       "  </thead>\n",
       "  <tbody>\n",
       "    <tr>\n",
       "      <th>UserID</th>\n",
       "      <td>1.000000</td>\n",
       "      <td>-0.011917</td>\n",
       "      <td>-0.011776</td>\n",
       "      <td>0.019672</td>\n",
       "      <td>-0.009663</td>\n",
       "      <td>0.000164</td>\n",
       "      <td>0.043975</td>\n",
       "    </tr>\n",
       "    <tr>\n",
       "      <th>UsageHoursPerDay</th>\n",
       "      <td>-0.011917</td>\n",
       "      <td>1.000000</td>\n",
       "      <td>0.026253</td>\n",
       "      <td>0.002161</td>\n",
       "      <td>0.015126</td>\n",
       "      <td>0.025132</td>\n",
       "      <td>0.183065</td>\n",
       "    </tr>\n",
       "    <tr>\n",
       "      <th>EnergyConsumption</th>\n",
       "      <td>-0.011776</td>\n",
       "      <td>0.026253</td>\n",
       "      <td>1.000000</td>\n",
       "      <td>0.016709</td>\n",
       "      <td>-0.000894</td>\n",
       "      <td>-0.016691</td>\n",
       "      <td>-0.178467</td>\n",
       "    </tr>\n",
       "    <tr>\n",
       "      <th>UserPreferences</th>\n",
       "      <td>0.019672</td>\n",
       "      <td>0.002161</td>\n",
       "      <td>0.016709</td>\n",
       "      <td>1.000000</td>\n",
       "      <td>0.002154</td>\n",
       "      <td>-0.013781</td>\n",
       "      <td>0.608713</td>\n",
       "    </tr>\n",
       "    <tr>\n",
       "      <th>MalfunctionIncidents</th>\n",
       "      <td>-0.009663</td>\n",
       "      <td>0.015126</td>\n",
       "      <td>-0.000894</td>\n",
       "      <td>0.002154</td>\n",
       "      <td>1.000000</td>\n",
       "      <td>-0.027023</td>\n",
       "      <td>-0.120836</td>\n",
       "    </tr>\n",
       "    <tr>\n",
       "      <th>DeviceAgeMonths</th>\n",
       "      <td>0.000164</td>\n",
       "      <td>0.025132</td>\n",
       "      <td>-0.016691</td>\n",
       "      <td>-0.013781</td>\n",
       "      <td>-0.027023</td>\n",
       "      <td>1.000000</td>\n",
       "      <td>-0.197077</td>\n",
       "    </tr>\n",
       "    <tr>\n",
       "      <th>SmartHomeEfficiency</th>\n",
       "      <td>0.043975</td>\n",
       "      <td>0.183065</td>\n",
       "      <td>-0.178467</td>\n",
       "      <td>0.608713</td>\n",
       "      <td>-0.120836</td>\n",
       "      <td>-0.197077</td>\n",
       "      <td>1.000000</td>\n",
       "    </tr>\n",
       "  </tbody>\n",
       "</table>\n",
       "</div>"
      ],
      "text/plain": [
       "                        UserID  UsageHoursPerDay  EnergyConsumption  \\\n",
       "UserID                1.000000         -0.011917          -0.011776   \n",
       "UsageHoursPerDay     -0.011917          1.000000           0.026253   \n",
       "EnergyConsumption    -0.011776          0.026253           1.000000   \n",
       "UserPreferences       0.019672          0.002161           0.016709   \n",
       "MalfunctionIncidents -0.009663          0.015126          -0.000894   \n",
       "DeviceAgeMonths       0.000164          0.025132          -0.016691   \n",
       "SmartHomeEfficiency   0.043975          0.183065          -0.178467   \n",
       "\n",
       "                      UserPreferences  MalfunctionIncidents  DeviceAgeMonths  \\\n",
       "UserID                       0.019672             -0.009663         0.000164   \n",
       "UsageHoursPerDay             0.002161              0.015126         0.025132   \n",
       "EnergyConsumption            0.016709             -0.000894        -0.016691   \n",
       "UserPreferences              1.000000              0.002154        -0.013781   \n",
       "MalfunctionIncidents         0.002154              1.000000        -0.027023   \n",
       "DeviceAgeMonths             -0.013781             -0.027023         1.000000   \n",
       "SmartHomeEfficiency          0.608713             -0.120836        -0.197077   \n",
       "\n",
       "                      SmartHomeEfficiency  \n",
       "UserID                           0.043975  \n",
       "UsageHoursPerDay                 0.183065  \n",
       "EnergyConsumption               -0.178467  \n",
       "UserPreferences                  0.608713  \n",
       "MalfunctionIncidents            -0.120836  \n",
       "DeviceAgeMonths                 -0.197077  \n",
       "SmartHomeEfficiency              1.000000  "
      ]
     },
     "execution_count": 16,
     "metadata": {},
     "output_type": "execute_result"
    }
   ],
   "source": [
    "cor_matrix=df.corr(numeric_only=True)\n",
    "cor_matrix"
   ]
  },
  {
   "cell_type": "code",
   "execution_count": 17,
   "id": "905463d8-6e6d-4dc6-b047-d59850a78356",
   "metadata": {},
   "outputs": [
    {
     "data": {
      "text/plain": [
       "Text(0.5, 1.0, 'Correlation Matrix')"
      ]
     },
     "execution_count": 17,
     "metadata": {},
     "output_type": "execute_result"
    },
    {
     "data": {
      "image/png": "[encoded data removed]",
      "text/plain": [
       "<Figure size 1000x800 with 2 Axes>"
      ]
     },
     "metadata": {},
     "output_type": "display_data"
    }
   ],
   "source": [
    "# Plot the HeatMap\n",
    "plt.figure(figsize=(10,8))\n",
    "sns.heatmap(cor_matrix, annot=True, cmap='coolwarm',linewidth=0.5)\n",
    "plt.title('Correlation Matrix')\n"
   ]
  },
  {
   "cell_type": "raw",
   "id": "28b7857a-a629-4d7f-bf1b-e14c0f2368cd",
   "metadata": {},
   "source": [
    "UsageHoursPerDay and EnergyConsumption show a moderate positive correlation, indicating that higher usage hours typically lead to higher energy consumption."
   ]
  },
  {
   "cell_type": "code",
   "execution_count": 18,
   "id": "590caacc-0acc-480f-8c1d-7cd0b25caccf",
   "metadata": {},
   "outputs": [],
   "source": [
    "# Create a SQLite database in memory\n",
    "import sqlite3\n",
    "conn=sqlite3.connect(':memory:')\n",
    "cursor =conn.cursor()"
   ]
  },
  {
   "cell_type": "markdown",
   "id": "93a3340f-cffa-41e8-b579-634c10c6ed56",
   "metadata": {},
   "source": [
    "## Structured Querry Language"
   ]
  },
  {
   "cell_type": "code",
   "execution_count": 20,
   "id": "652ac684-a3d9-48a8-82e3-ddaf23d59a7e",
   "metadata": {},
   "outputs": [],
   "source": [
    "#DB Creation and data insertion"
   ]
  },
  {
   "cell_type": "code",
   "execution_count": 21,
   "id": "d0c1c74c-d659-4498-9ccf-909f47b7bec5",
   "metadata": {},
   "outputs": [],
   "source": [
    "import sqlite3"
   ]
  },
  {
   "cell_type": "code",
   "execution_count": 22,
   "id": "7a8471fd-25eb-4dc5-852a-b9cb07d23c62",
   "metadata": {},
   "outputs": [
    {
     "data": {
      "text/plain": [
       "<sqlite3.Cursor at 0x271d3277740>"
      ]
     },
     "execution_count": 22,
     "metadata": {},
     "output_type": "execute_result"
    }
   ],
   "source": [
    "#Create the database Table\n",
    "cursor.execute(\n",
    "    '''\n",
    "CREATE TABLE SmartHomeDevices (\n",
    "    UserID INTEGER,\n",
    "    DeviceType TEXT,\n",
    "    UsageHoursPerDay REAL,\n",
    "    EnergyConsumption REAL,\n",
    "    UserPreferences INTEGER,\n",
    "    MalfunctionIncidents INTEGER,\n",
    "    DeviceAgeMonths INTEGER,\n",
    "    SmartHomeEfficiency INTEGER\n",
    ")\n",
    "'''\n",
    ")"
   ]
  },
  {
   "cell_type": "code",
   "execution_count": 23,
   "id": "63c24378-bc52-4a8f-b584-f6ce43c51f0e",
   "metadata": {},
   "outputs": [
    {
     "data": {
      "text/plain": [
       "5403"
      ]
     },
     "execution_count": 23,
     "metadata": {},
     "output_type": "execute_result"
    }
   ],
   "source": [
    "#Insert Data into the DB\n",
    "df.to_sql('SmartHomeDevices', conn, if_exists='append', index=False)"
   ]
  },
  {
   "cell_type": "code",
   "execution_count": 24,
   "id": "1914b502-14f3-4dfa-bf28-e5bac663ab79",
   "metadata": {},
   "outputs": [],
   "source": [
    "# Verify data insertion by querying the first few rows\n",
    "cursor.execute('SELECT * FROM SmartHomeDevices LIMIT 5')\n",
    "rows = cursor.fetchall()"
   ]
  },
  {
   "cell_type": "code",
   "execution_count": 25,
   "id": "084755d4-0491-46f4-a2cf-dd920cd4be00",
   "metadata": {},
   "outputs": [
    {
     "data": {
      "text/plain": [
       "[(1, 'Smart Speaker', 15.30718848124909, 1.9616068166289795, 1, 4, 36, 1),\n",
       " (2, 'Camera', 19.9733432937798, 8.610688921898104, 1, 0, 29, 1),\n",
       " (3, 'Security System', 18.91153466115779, 2.651776634718286, 1, 0, 20, 1),\n",
       " (4, 'Camera', 7.011127368264892, 2.341653090367735, 0, 3, 15, 0),\n",
       " (5, 'Camera', 22.6106839846413, 4.859069159195124, 1, 3, 36, 1)]"
      ]
     },
     "execution_count": 25,
     "metadata": {},
     "output_type": "execute_result"
    }
   ],
   "source": [
    "#display\n",
    "rows"
   ]
  },
  {
   "cell_type": "code",
   "execution_count": 26,
   "id": "476a4e05-8804-40ad-ba18-109719d26aca",
   "metadata": {},
   "outputs": [],
   "source": [
    "# Data Querries"
   ]
  },
  {
   "cell_type": "markdown",
   "id": "35a12c9d-e559-4834-b700-9dea13260f10",
   "metadata": {},
   "source": [
    "### Average Usage Hours per Device Type:\n",
    "\n",
    "- Calculate the average UsageHoursPerDay for each DeviceType"
   ]
  },
  {
   "cell_type": "code",
   "execution_count": 28,
   "id": "6b1bf084-5504-498e-9d7a-ab0dc92613dc",
   "metadata": {},
   "outputs": [
    {
     "data": {
      "text/plain": [
       "[('Camera', 12.113434551211606),\n",
       " ('Thermostat', 12.105752901240756),\n",
       " ('Lights', 12.052646319376349),\n",
       " ('Security System', 12.016149102155167),\n",
       " ('Smart Speaker', 11.979308065895848)]"
      ]
     },
     "execution_count": 28,
     "metadata": {},
     "output_type": "execute_result"
    }
   ],
   "source": [
    "# Query to calculate the average UsageHoursPerDay for each DeviceType\n",
    "query_avg_usage = '''\n",
    "SELECT DeviceType, AVG(UsageHoursPerDay) AS AverageUsageHours\n",
    "FROM SmartHomeDevices\n",
    "GROUP BY DeviceType\n",
    "ORDER BY AverageUsageHours DESC\n",
    "\n",
    "'''\n",
    "\n",
    "# Execute Query and fetch the results\n",
    "cursor.execute(query_avg_usage)\n",
    "avg_usage_results = cursor.fetchall()\n",
    "\n",
    "avg_usage_results"
   ]
  },
  {
   "cell_type": "code",
   "execution_count": 29,
   "id": "1c053a1a-7531-4da7-a878-89fa238aa76d",
   "metadata": {},
   "outputs": [],
   "source": [
    "#convert into a dataframe for better visualization"
   ]
  },
  {
   "cell_type": "code",
   "execution_count": 30,
   "id": "c851cd09-d61d-4c19-93c7-f898bf236ba7",
   "metadata": {},
   "outputs": [
    {
     "data": {
      "text/html": [
       "<div>\n",
       "<style scoped>\n",
       "    .dataframe tbody tr th:only-of-type {\n",
       "        vertical-align: middle;\n",
       "    }\n",
       "\n",
       "    .dataframe tbody tr th {\n",
       "        vertical-align: top;\n",
       "    }\n",
       "\n",
       "    .dataframe thead th {\n",
       "        text-align: right;\n",
       "    }\n",
       "</style>\n",
       "<table border=\"1\" class=\"dataframe\">\n",
       "  <thead>\n",
       "    <tr style=\"text-align: right;\">\n",
       "      <th></th>\n",
       "      <th>DeviceType</th>\n",
       "      <th>AverageUsageHours</th>\n",
       "    </tr>\n",
       "  </thead>\n",
       "  <tbody>\n",
       "    <tr>\n",
       "      <th>0</th>\n",
       "      <td>Camera</td>\n",
       "      <td>12.113435</td>\n",
       "    </tr>\n",
       "    <tr>\n",
       "      <th>1</th>\n",
       "      <td>Thermostat</td>\n",
       "      <td>12.105753</td>\n",
       "    </tr>\n",
       "    <tr>\n",
       "      <th>2</th>\n",
       "      <td>Lights</td>\n",
       "      <td>12.052646</td>\n",
       "    </tr>\n",
       "    <tr>\n",
       "      <th>3</th>\n",
       "      <td>Security System</td>\n",
       "      <td>12.016149</td>\n",
       "    </tr>\n",
       "    <tr>\n",
       "      <th>4</th>\n",
       "      <td>Smart Speaker</td>\n",
       "      <td>11.979308</td>\n",
       "    </tr>\n",
       "  </tbody>\n",
       "</table>\n",
       "</div>"
      ],
      "text/plain": [
       "        DeviceType  AverageUsageHours\n",
       "0           Camera          12.113435\n",
       "1       Thermostat          12.105753\n",
       "2           Lights          12.052646\n",
       "3  Security System          12.016149\n",
       "4    Smart Speaker          11.979308"
      ]
     },
     "execution_count": 30,
     "metadata": {},
     "output_type": "execute_result"
    }
   ],
   "source": [
    "usage_df = pd.DataFrame(avg_usage_results, columns =['DeviceType', 'AverageUsageHours'])\n",
    "usage_df"
   ]
  },
  {
   "cell_type": "markdown",
   "id": "68a5df21-ef70-4a1f-aa15-f375de833278",
   "metadata": {},
   "source": [
    "### Total Energy Consumption per Device Type:\n",
    "\n",
    "- Calculate the total EnergyConsumption for each DeviceType."
   ]
  },
  {
   "cell_type": "code",
   "execution_count": 32,
   "id": "7cec1b36-13b4-4acd-b5f7-b5d349f297a0",
   "metadata": {},
   "outputs": [
    {
     "data": {
      "text/html": [
       "<div>\n",
       "<style scoped>\n",
       "    .dataframe tbody tr th:only-of-type {\n",
       "        vertical-align: middle;\n",
       "    }\n",
       "\n",
       "    .dataframe tbody tr th {\n",
       "        vertical-align: top;\n",
       "    }\n",
       "\n",
       "    .dataframe thead th {\n",
       "        text-align: right;\n",
       "    }\n",
       "</style>\n",
       "<table border=\"1\" class=\"dataframe\">\n",
       "  <thead>\n",
       "    <tr style=\"text-align: right;\">\n",
       "      <th></th>\n",
       "      <th>DeviceType</th>\n",
       "      <th>TotalEnergyConsumption</th>\n",
       "    </tr>\n",
       "  </thead>\n",
       "  <tbody>\n",
       "    <tr>\n",
       "      <th>0</th>\n",
       "      <td>Camera</td>\n",
       "      <td>5593.812982</td>\n",
       "    </tr>\n",
       "    <tr>\n",
       "      <th>1</th>\n",
       "      <td>Security System</td>\n",
       "      <td>5487.589413</td>\n",
       "    </tr>\n",
       "    <tr>\n",
       "      <th>2</th>\n",
       "      <td>Lights</td>\n",
       "      <td>5483.789011</td>\n",
       "    </tr>\n",
       "    <tr>\n",
       "      <th>3</th>\n",
       "      <td>Smart Speaker</td>\n",
       "      <td>5398.215903</td>\n",
       "    </tr>\n",
       "    <tr>\n",
       "      <th>4</th>\n",
       "      <td>Thermostat</td>\n",
       "      <td>5344.985756</td>\n",
       "    </tr>\n",
       "  </tbody>\n",
       "</table>\n",
       "</div>"
      ],
      "text/plain": [
       "        DeviceType  TotalEnergyConsumption\n",
       "0           Camera             5593.812982\n",
       "1  Security System             5487.589413\n",
       "2           Lights             5483.789011\n",
       "3    Smart Speaker             5398.215903\n",
       "4       Thermostat             5344.985756"
      ]
     },
     "execution_count": 32,
     "metadata": {},
     "output_type": "execute_result"
    }
   ],
   "source": [
    "# Query to calculate the total EnergyConsumption for each DeviceType\n",
    "query_total_energy = '''\n",
    "SELECT DeviceType, SUM(EnergyConsumption) AS TotalEnergyConsumption\n",
    "FROM SmartHomeDevices\n",
    "GROUP BY DeviceType\n",
    "ORDER BY TotalEnergyConsumption DESC\n",
    "'''\n",
    "\n",
    "# Execute the query and fetch the results\n",
    "cursor.execute(query_total_energy)\n",
    "total_energy_results = cursor.fetchall()\n",
    "\n",
    "# Convert the results to a DataFrame for better visualization\n",
    "total_energy_df = pd.DataFrame(total_energy_results, columns=['DeviceType', 'TotalEnergyConsumption'])\n",
    "\n",
    "total_energy_df\n"
   ]
  },
  {
   "cell_type": "markdown",
   "id": "5e9210db-b66c-44ac-b681-e3f56f8fec88",
   "metadata": {},
   "source": [
    "### Malfunction Incidents by Device Age:\n",
    "\n",
    "- Count the number of MalfunctionIncidents grouped by DeviceAgeMonths."
   ]
  },
  {
   "cell_type": "code",
   "execution_count": 34,
   "id": "48aeedcb-ace2-4941-9e37-528782bf7409",
   "metadata": {},
   "outputs": [
    {
     "data": {
      "text/html": [
       "<div>\n",
       "<style scoped>\n",
       "    .dataframe tbody tr th:only-of-type {\n",
       "        vertical-align: middle;\n",
       "    }\n",
       "\n",
       "    .dataframe tbody tr th {\n",
       "        vertical-align: top;\n",
       "    }\n",
       "\n",
       "    .dataframe thead th {\n",
       "        text-align: right;\n",
       "    }\n",
       "</style>\n",
       "<table border=\"1\" class=\"dataframe\">\n",
       "  <thead>\n",
       "    <tr style=\"text-align: right;\">\n",
       "      <th></th>\n",
       "      <th>DeviceAgeMonths</th>\n",
       "      <th>IncidentCount</th>\n",
       "    </tr>\n",
       "  </thead>\n",
       "  <tbody>\n",
       "    <tr>\n",
       "      <th>0</th>\n",
       "      <td>1</td>\n",
       "      <td>74</td>\n",
       "    </tr>\n",
       "    <tr>\n",
       "      <th>1</th>\n",
       "      <td>2</td>\n",
       "      <td>77</td>\n",
       "    </tr>\n",
       "    <tr>\n",
       "      <th>2</th>\n",
       "      <td>3</td>\n",
       "      <td>109</td>\n",
       "    </tr>\n",
       "    <tr>\n",
       "      <th>3</th>\n",
       "      <td>4</td>\n",
       "      <td>84</td>\n",
       "    </tr>\n",
       "    <tr>\n",
       "      <th>4</th>\n",
       "      <td>5</td>\n",
       "      <td>104</td>\n",
       "    </tr>\n",
       "    <tr>\n",
       "      <th>5</th>\n",
       "      <td>6</td>\n",
       "      <td>77</td>\n",
       "    </tr>\n",
       "    <tr>\n",
       "      <th>6</th>\n",
       "      <td>7</td>\n",
       "      <td>67</td>\n",
       "    </tr>\n",
       "    <tr>\n",
       "      <th>7</th>\n",
       "      <td>8</td>\n",
       "      <td>87</td>\n",
       "    </tr>\n",
       "    <tr>\n",
       "      <th>8</th>\n",
       "      <td>9</td>\n",
       "      <td>95</td>\n",
       "    </tr>\n",
       "    <tr>\n",
       "      <th>9</th>\n",
       "      <td>10</td>\n",
       "      <td>93</td>\n",
       "    </tr>\n",
       "    <tr>\n",
       "      <th>10</th>\n",
       "      <td>11</td>\n",
       "      <td>100</td>\n",
       "    </tr>\n",
       "    <tr>\n",
       "      <th>11</th>\n",
       "      <td>12</td>\n",
       "      <td>84</td>\n",
       "    </tr>\n",
       "    <tr>\n",
       "      <th>12</th>\n",
       "      <td>13</td>\n",
       "      <td>125</td>\n",
       "    </tr>\n",
       "    <tr>\n",
       "      <th>13</th>\n",
       "      <td>14</td>\n",
       "      <td>77</td>\n",
       "    </tr>\n",
       "    <tr>\n",
       "      <th>14</th>\n",
       "      <td>15</td>\n",
       "      <td>103</td>\n",
       "    </tr>\n",
       "    <tr>\n",
       "      <th>15</th>\n",
       "      <td>16</td>\n",
       "      <td>100</td>\n",
       "    </tr>\n",
       "    <tr>\n",
       "      <th>16</th>\n",
       "      <td>17</td>\n",
       "      <td>80</td>\n",
       "    </tr>\n",
       "    <tr>\n",
       "      <th>17</th>\n",
       "      <td>18</td>\n",
       "      <td>87</td>\n",
       "    </tr>\n",
       "    <tr>\n",
       "      <th>18</th>\n",
       "      <td>19</td>\n",
       "      <td>93</td>\n",
       "    </tr>\n",
       "    <tr>\n",
       "      <th>19</th>\n",
       "      <td>20</td>\n",
       "      <td>68</td>\n",
       "    </tr>\n",
       "    <tr>\n",
       "      <th>20</th>\n",
       "      <td>21</td>\n",
       "      <td>90</td>\n",
       "    </tr>\n",
       "    <tr>\n",
       "      <th>21</th>\n",
       "      <td>22</td>\n",
       "      <td>82</td>\n",
       "    </tr>\n",
       "    <tr>\n",
       "      <th>22</th>\n",
       "      <td>23</td>\n",
       "      <td>106</td>\n",
       "    </tr>\n",
       "    <tr>\n",
       "      <th>23</th>\n",
       "      <td>24</td>\n",
       "      <td>98</td>\n",
       "    </tr>\n",
       "    <tr>\n",
       "      <th>24</th>\n",
       "      <td>25</td>\n",
       "      <td>97</td>\n",
       "    </tr>\n",
       "    <tr>\n",
       "      <th>25</th>\n",
       "      <td>26</td>\n",
       "      <td>111</td>\n",
       "    </tr>\n",
       "    <tr>\n",
       "      <th>26</th>\n",
       "      <td>27</td>\n",
       "      <td>78</td>\n",
       "    </tr>\n",
       "    <tr>\n",
       "      <th>27</th>\n",
       "      <td>28</td>\n",
       "      <td>95</td>\n",
       "    </tr>\n",
       "    <tr>\n",
       "      <th>28</th>\n",
       "      <td>29</td>\n",
       "      <td>87</td>\n",
       "    </tr>\n",
       "    <tr>\n",
       "      <th>29</th>\n",
       "      <td>30</td>\n",
       "      <td>97</td>\n",
       "    </tr>\n",
       "    <tr>\n",
       "      <th>30</th>\n",
       "      <td>31</td>\n",
       "      <td>87</td>\n",
       "    </tr>\n",
       "    <tr>\n",
       "      <th>31</th>\n",
       "      <td>32</td>\n",
       "      <td>96</td>\n",
       "    </tr>\n",
       "    <tr>\n",
       "      <th>32</th>\n",
       "      <td>33</td>\n",
       "      <td>88</td>\n",
       "    </tr>\n",
       "    <tr>\n",
       "      <th>33</th>\n",
       "      <td>34</td>\n",
       "      <td>67</td>\n",
       "    </tr>\n",
       "    <tr>\n",
       "      <th>34</th>\n",
       "      <td>35</td>\n",
       "      <td>100</td>\n",
       "    </tr>\n",
       "    <tr>\n",
       "      <th>35</th>\n",
       "      <td>36</td>\n",
       "      <td>78</td>\n",
       "    </tr>\n",
       "    <tr>\n",
       "      <th>36</th>\n",
       "      <td>37</td>\n",
       "      <td>100</td>\n",
       "    </tr>\n",
       "    <tr>\n",
       "      <th>37</th>\n",
       "      <td>38</td>\n",
       "      <td>107</td>\n",
       "    </tr>\n",
       "    <tr>\n",
       "      <th>38</th>\n",
       "      <td>39</td>\n",
       "      <td>86</td>\n",
       "    </tr>\n",
       "    <tr>\n",
       "      <th>39</th>\n",
       "      <td>40</td>\n",
       "      <td>94</td>\n",
       "    </tr>\n",
       "    <tr>\n",
       "      <th>40</th>\n",
       "      <td>41</td>\n",
       "      <td>91</td>\n",
       "    </tr>\n",
       "    <tr>\n",
       "      <th>41</th>\n",
       "      <td>42</td>\n",
       "      <td>110</td>\n",
       "    </tr>\n",
       "    <tr>\n",
       "      <th>42</th>\n",
       "      <td>43</td>\n",
       "      <td>83</td>\n",
       "    </tr>\n",
       "    <tr>\n",
       "      <th>43</th>\n",
       "      <td>44</td>\n",
       "      <td>107</td>\n",
       "    </tr>\n",
       "    <tr>\n",
       "      <th>44</th>\n",
       "      <td>45</td>\n",
       "      <td>80</td>\n",
       "    </tr>\n",
       "    <tr>\n",
       "      <th>45</th>\n",
       "      <td>46</td>\n",
       "      <td>83</td>\n",
       "    </tr>\n",
       "    <tr>\n",
       "      <th>46</th>\n",
       "      <td>47</td>\n",
       "      <td>95</td>\n",
       "    </tr>\n",
       "    <tr>\n",
       "      <th>47</th>\n",
       "      <td>48</td>\n",
       "      <td>89</td>\n",
       "    </tr>\n",
       "    <tr>\n",
       "      <th>48</th>\n",
       "      <td>49</td>\n",
       "      <td>98</td>\n",
       "    </tr>\n",
       "    <tr>\n",
       "      <th>49</th>\n",
       "      <td>50</td>\n",
       "      <td>86</td>\n",
       "    </tr>\n",
       "    <tr>\n",
       "      <th>50</th>\n",
       "      <td>51</td>\n",
       "      <td>92</td>\n",
       "    </tr>\n",
       "    <tr>\n",
       "      <th>51</th>\n",
       "      <td>52</td>\n",
       "      <td>89</td>\n",
       "    </tr>\n",
       "    <tr>\n",
       "      <th>52</th>\n",
       "      <td>53</td>\n",
       "      <td>112</td>\n",
       "    </tr>\n",
       "    <tr>\n",
       "      <th>53</th>\n",
       "      <td>54</td>\n",
       "      <td>102</td>\n",
       "    </tr>\n",
       "    <tr>\n",
       "      <th>54</th>\n",
       "      <td>55</td>\n",
       "      <td>82</td>\n",
       "    </tr>\n",
       "    <tr>\n",
       "      <th>55</th>\n",
       "      <td>56</td>\n",
       "      <td>85</td>\n",
       "    </tr>\n",
       "    <tr>\n",
       "      <th>56</th>\n",
       "      <td>57</td>\n",
       "      <td>90</td>\n",
       "    </tr>\n",
       "    <tr>\n",
       "      <th>57</th>\n",
       "      <td>58</td>\n",
       "      <td>96</td>\n",
       "    </tr>\n",
       "    <tr>\n",
       "      <th>58</th>\n",
       "      <td>59</td>\n",
       "      <td>105</td>\n",
       "    </tr>\n",
       "  </tbody>\n",
       "</table>\n",
       "</div>"
      ],
      "text/plain": [
       "    DeviceAgeMonths  IncidentCount\n",
       "0                 1             74\n",
       "1                 2             77\n",
       "2                 3            109\n",
       "3                 4             84\n",
       "4                 5            104\n",
       "5                 6             77\n",
       "6                 7             67\n",
       "7                 8             87\n",
       "8                 9             95\n",
       "9                10             93\n",
       "10               11            100\n",
       "11               12             84\n",
       "12               13            125\n",
       "13               14             77\n",
       "14               15            103\n",
       "15               16            100\n",
       "16               17             80\n",
       "17               18             87\n",
       "18               19             93\n",
       "19               20             68\n",
       "20               21             90\n",
       "21               22             82\n",
       "22               23            106\n",
       "23               24             98\n",
       "24               25             97\n",
       "25               26            111\n",
       "26               27             78\n",
       "27               28             95\n",
       "28               29             87\n",
       "29               30             97\n",
       "30               31             87\n",
       "31               32             96\n",
       "32               33             88\n",
       "33               34             67\n",
       "34               35            100\n",
       "35               36             78\n",
       "36               37            100\n",
       "37               38            107\n",
       "38               39             86\n",
       "39               40             94\n",
       "40               41             91\n",
       "41               42            110\n",
       "42               43             83\n",
       "43               44            107\n",
       "44               45             80\n",
       "45               46             83\n",
       "46               47             95\n",
       "47               48             89\n",
       "48               49             98\n",
       "49               50             86\n",
       "50               51             92\n",
       "51               52             89\n",
       "52               53            112\n",
       "53               54            102\n",
       "54               55             82\n",
       "55               56             85\n",
       "56               57             90\n",
       "57               58             96\n",
       "58               59            105"
      ]
     },
     "execution_count": 34,
     "metadata": {},
     "output_type": "execute_result"
    }
   ],
   "source": [
    "# Query to count the number of MalfunctionIncidents grouped by DeviceAgeMonths\n",
    "query_malfunction_incidents = '''\n",
    "SELECT DeviceAgeMonths, COUNT(MalfunctionIncidents) AS IncidentCount\n",
    "FROM SmartHomeDevices\n",
    "GROUP BY DeviceAgeMonths\n",
    "ORDER BY DeviceAgeMonths\n",
    "'''\n",
    "\n",
    "# Execute the query and fetch the results\n",
    "cursor.execute(query_malfunction_incidents)\n",
    "malfunction_incidents_results = cursor.fetchall()\n",
    "\n",
    "# Convert the results to a DataFrame for better visualization\n",
    "malfunction_incidents_df = pd.DataFrame(malfunction_incidents_results, columns=['DeviceAgeMonths', 'IncidentCount'])\n",
    "\n",
    "malfunction_incidents_df\n"
   ]
  },
  {
   "cell_type": "markdown",
   "id": "ee94b598-5728-4430-b7a7-c8423b12665d",
   "metadata": {},
   "source": [
    "## Machine Learning"
   ]
  },
  {
   "cell_type": "markdown",
   "id": "05b05c2a-9632-41ec-8fbf-aa7d605771fd",
   "metadata": {},
   "source": [
    "- Objective: Build a predictive model for SmartHomeEfficiency"
   ]
  },
  {
   "cell_type": "markdown",
   "id": "c58879d4-cb7b-4b27-8708-1c672c1e5d5d",
   "metadata": {},
   "source": [
    "#### Data Processing"
   ]
  },
  {
   "cell_type": "raw",
   "id": "63820172-8097-4893-86e8-2cc6379a1ea4",
   "metadata": {},
   "source": [
    "Let's start by encoding the categorical variable DeviceType and splitting the data into training and testing sets."
   ]
  },
  {
   "cell_type": "code",
   "execution_count": 38,
   "id": "4aa817a7-4e92-4303-ba64-877da0caf028",
   "metadata": {},
   "outputs": [],
   "source": [
    "data = df"
   ]
  },
  {
   "cell_type": "code",
   "execution_count": 39,
   "id": "ae811e13-0c7c-4545-a818-e462805cfb66",
   "metadata": {},
   "outputs": [
    {
     "data": {
      "text/plain": [
       "((4322, 7), (1081, 7), (4322,), (1081,))"
      ]
     },
     "execution_count": 39,
     "metadata": {},
     "output_type": "execute_result"
    }
   ],
   "source": [
    "from sklearn.model_selection import train_test_split\n",
    "from sklearn.preprocessing import LabelEncoder\n",
    "\n",
    "# Encode the categorical variable 'DeviceType'\n",
    "label_encoder = LabelEncoder()\n",
    "data['DeviceType'] = label_encoder.fit_transform(data['DeviceType'])\n",
    "\n",
    "# Define features and target variable\n",
    "X = data.drop('SmartHomeEfficiency', axis=1)\n",
    "y = data['SmartHomeEfficiency']\n",
    "\n",
    "# Split the data into training and testing sets\n",
    "X_train, X_test, y_train, y_test = train_test_split(X, y, test_size=0.2, random_state=42)\n",
    "\n",
    "# Display the shapes of the training and testing sets\n",
    "X_train.shape, X_test.shape, y_train.shape, y_test.shape\n"
   ]
  },
  {
   "cell_type": "markdown",
   "id": "18770bcb-2c9f-4ef5-aa2b-8a66a62a2250",
   "metadata": {},
   "source": [
    "#### Model Building"
   ]
  },
  {
   "cell_type": "raw",
   "id": "3cd0be80-46b2-409d-8484-bacbc207b44d",
   "metadata": {},
   "source": [
    "Logistic Regression model"
   ]
  },
  {
   "cell_type": "code",
   "execution_count": 41,
   "id": "283f382e-fb41-4bf2-9b62-94766e98a95e",
   "metadata": {},
   "outputs": [
    {
     "name": "stdout",
     "output_type": "stream",
     "text": [
      "Accuracy:  87.41905642923219 %\n"
     ]
    }
   ],
   "source": [
    "from sklearn.linear_model import LogisticRegression\n",
    "from sklearn.metrics import accuracy_score, precision_score, recall_score, f1_score, confusion_matrix\n",
    "\n",
    "# Train a Logistic Regression model\n",
    "logistic_model = LogisticRegression(max_iter=1000, random_state=42)\n",
    "logistic_model.fit(X_train, y_train)\n",
    "\n",
    "# Predict on the test set\n",
    "y_pred = logistic_model.predict(X_test)\n",
    "\n",
    "# Evaluate the model's performance\n",
    "accuracy = accuracy_score(y_test, y_pred)\n",
    "precision = precision_score(y_test, y_pred)\n",
    "recall = recall_score(y_test, y_pred)\n",
    "f1 = f1_score(y_test, y_pred)\n",
    "conf_matrix = confusion_matrix(y_test, y_pred)\n",
    "\n",
    "print('Accuracy: ',accuracy*100,'%')\n"
   ]
  },
  {
   "cell_type": "code",
   "execution_count": 42,
   "id": "d518d47e-52ac-43f8-89f4-181225d3c701",
   "metadata": {},
   "outputs": [
    {
     "name": "stdout",
     "output_type": "stream",
     "text": [
      "Precision:  82.96296296296296 %\n"
     ]
    }
   ],
   "source": [
    "print('Precision: ', precision*100,'%')"
   ]
  },
  {
   "cell_type": "code",
   "execution_count": 43,
   "id": "8abcaa8a-ff2f-49cb-9601-6a136e2ff728",
   "metadata": {},
   "outputs": [
    {
     "name": "stdout",
     "output_type": "stream",
     "text": [
      "Recall:  83.37468982630273 %\n"
     ]
    }
   ],
   "source": [
    "print('Recall: ', recall*100,'%')"
   ]
  },
  {
   "cell_type": "code",
   "execution_count": 44,
   "id": "b147c137-b9e9-4518-aef4-993792b95f85",
   "metadata": {},
   "outputs": [
    {
     "name": "stdout",
     "output_type": "stream",
     "text": [
      "F1-Score:  83.16831683168317 %\n"
     ]
    }
   ],
   "source": [
    "print('F1-Score: ', f1*100,'%')"
   ]
  },
  {
   "cell_type": "code",
   "execution_count": 45,
   "id": "3b2584e7-694b-4fd3-8fb5-2aa43db8a973",
   "metadata": {},
   "outputs": [
    {
     "name": "stdout",
     "output_type": "stream",
     "text": [
      "Confusion Matrix:  [[609  69]\n",
      " [ 67 336]]\n"
     ]
    }
   ],
   "source": [
    "print('Confusion Matrix: ', conf_matrix)"
   ]
  },
  {
   "cell_type": "markdown",
   "id": "1fac770c-b9c0-44d0-b686-b012a1891f5b",
   "metadata": {},
   "source": [
    "#### Improve the Model's Performance\n"
   ]
  },
  {
   "cell_type": "markdown",
   "id": "6052aa3a-b4dd-4249-a68b-1735ca77a519",
   "metadata": {},
   "source": [
    "Random Forest classifier"
   ]
  },
  {
   "cell_type": "code",
   "execution_count": 48,
   "id": "7aac0fb6-9378-4034-9c5f-512d76a1c5dc",
   "metadata": {},
   "outputs": [
    {
     "data": {
      "text/plain": [
       "(0.9555966697502313,\n",
       " 0.9404466501240695,\n",
       " 0.9404466501240695,\n",
       " 0.9404466501240695,\n",
       " array([[654,  24],\n",
       "        [ 24, 379]], dtype=int64))"
      ]
     },
     "execution_count": 48,
     "metadata": {},
     "output_type": "execute_result"
    }
   ],
   "source": [
    "from sklearn.ensemble import RandomForestClassifier\n",
    "\n",
    "# Train a Random Forest model\n",
    "random_forest_model = RandomForestClassifier(n_estimators=100, random_state=42)\n",
    "random_forest_model.fit(X_train, y_train)\n",
    "\n",
    "# Predict on the test set\n",
    "y_pred_rf = random_forest_model.predict(X_test)\n",
    "\n",
    "# Evaluate the Random Forest model's performance\n",
    "accuracy_rf = accuracy_score(y_test, y_pred_rf)\n",
    "precision_rf = precision_score(y_test, y_pred_rf)\n",
    "recall_rf = recall_score(y_test, y_pred_rf)\n",
    "f1_rf = f1_score(y_test, y_pred_rf)\n",
    "conf_matrix_rf = confusion_matrix(y_test, y_pred_rf)\n",
    "\n",
    "accuracy_rf, precision_rf, recall_rf, f1_rf, conf_matrix_rf\n"
   ]
  },
  {
   "cell_type": "raw",
   "id": "32981e5e-3a4b-42b2-8652-4a259a39259d",
   "metadata": {},
   "source": [
    "Accuracy: 95.56%\n",
    "Precision: 94.04%\n",
    "Recall: 94.04%\n",
    "F1-Score: 94.04%"
   ]
  },
  {
   "cell_type": "markdown",
   "id": "5b620cfa-f201-4146-ad5e-72eeabcf0dca",
   "metadata": {},
   "source": [
    "The Random Forest model significantly outperforms the Logistic Regression model in terms of accuracy, precision, recall, and F1-score. The confusion matrix also indicates a much better balance in the predictions, with fewer misclassifications."
   ]
  },
  {
   "cell_type": "code",
   "execution_count": 50,
   "id": "e40ed826-f53d-4b77-8893-5889ca9be02a",
   "metadata": {},
   "outputs": [
    {
     "data": {
      "text/html": [
       "<div>\n",
       "<style scoped>\n",
       "    .dataframe tbody tr th:only-of-type {\n",
       "        vertical-align: middle;\n",
       "    }\n",
       "\n",
       "    .dataframe tbody tr th {\n",
       "        vertical-align: top;\n",
       "    }\n",
       "\n",
       "    .dataframe thead th {\n",
       "        text-align: right;\n",
       "    }\n",
       "</style>\n",
       "<table border=\"1\" class=\"dataframe\">\n",
       "  <thead>\n",
       "    <tr style=\"text-align: right;\">\n",
       "      <th></th>\n",
       "      <th>Feature</th>\n",
       "      <th>Importance</th>\n",
       "    </tr>\n",
       "  </thead>\n",
       "  <tbody>\n",
       "    <tr>\n",
       "      <th>4</th>\n",
       "      <td>UserPreferences</td>\n",
       "      <td>0.408660</td>\n",
       "    </tr>\n",
       "    <tr>\n",
       "      <th>2</th>\n",
       "      <td>UsageHoursPerDay</td>\n",
       "      <td>0.136228</td>\n",
       "    </tr>\n",
       "    <tr>\n",
       "      <th>3</th>\n",
       "      <td>EnergyConsumption</td>\n",
       "      <td>0.134871</td>\n",
       "    </tr>\n",
       "    <tr>\n",
       "      <th>6</th>\n",
       "      <td>DeviceAgeMonths</td>\n",
       "      <td>0.134551</td>\n",
       "    </tr>\n",
       "    <tr>\n",
       "      <th>0</th>\n",
       "      <td>UserID</td>\n",
       "      <td>0.104453</td>\n",
       "    </tr>\n",
       "    <tr>\n",
       "      <th>5</th>\n",
       "      <td>MalfunctionIncidents</td>\n",
       "      <td>0.066127</td>\n",
       "    </tr>\n",
       "    <tr>\n",
       "      <th>1</th>\n",
       "      <td>DeviceType</td>\n",
       "      <td>0.015111</td>\n",
       "    </tr>\n",
       "  </tbody>\n",
       "</table>\n",
       "</div>"
      ],
      "text/plain": [
       "                Feature  Importance\n",
       "4       UserPreferences    0.408660\n",
       "2      UsageHoursPerDay    0.136228\n",
       "3     EnergyConsumption    0.134871\n",
       "6       DeviceAgeMonths    0.134551\n",
       "0                UserID    0.104453\n",
       "5  MalfunctionIncidents    0.066127\n",
       "1            DeviceType    0.015111"
      ]
     },
     "execution_count": 50,
     "metadata": {},
     "output_type": "execute_result"
    }
   ],
   "source": [
    "#Visualize Feature Importance\n",
    "# Get feature importances from the Random Forest model\n",
    "feature_importances = random_forest_model.feature_importances_\n",
    "\n",
    "# Create a DataFrame for feature importances\n",
    "feature_importances_df = pd.DataFrame({\n",
    "    'Feature': X.columns,\n",
    "    'Importance': feature_importances\n",
    "}).sort_values(by='Importance', ascending=False)\n",
    "\n",
    "feature_importances_df\n"
   ]
  },
  {
   "cell_type": "code",
   "execution_count": 51,
   "id": "adb6dafd-9277-4b3d-aa9f-8e84e8af7910",
   "metadata": {},
   "outputs": [
    {
     "data": {
      "image/png": "[encoded data removed]",
      "text/plain": [
       "<Figure size 1000x600 with 1 Axes>"
      ]
     },
     "metadata": {},
     "output_type": "display_data"
    }
   ],
   "source": [
    "# Plot the feature importances\n",
    "plt.figure(figsize=(10, 6))\n",
    "sns.barplot(x='Importance', y='Feature', data=feature_importances_df, palette='viridis')\n",
    "plt.title('Feature Importances from Random Forest Model')\n",
    "plt.xlabel('Importance')\n",
    "plt.ylabel('Feature')\n",
    "plt.show()"
   ]
  },
  {
   "cell_type": "markdown",
   "id": "e290210a-3d97-4d58-b8b4-c7353d6aba98",
   "metadata": {},
   "source": [
    "The feature importance plot from the Random Forest model highlights the most influential features in predicting SmartHomeEfficiency. \n",
    "\n",
    "Here are the key takeaways:\n",
    "\n",
    "- User preferences is the most influential feature in predicting the efficiency of a smart home. (That is mostly tied to individual usage of energy and associated characteristics.\n",
    "- Usage Hours, Energy Consumption and Device Age moderately predict the efficiency."
   ]
  }
 ],
 "metadata": {
  "kernelspec": {
   "display_name": "Python 3 (ipykernel)",
   "language": "python",
   "name": "python3"
  },
  "language_info": {
   "codemirror_mode": {
    "name": "ipython",
    "version": 3
   },
   "file_extension": ".py",
   "mimetype": "text/x-python",
   "name": "python",
   "nbconvert_exporter": "python",
   "pygments_lexer": "ipython3",
   "version": "3.11.7"
  }
 },
 "nbformat": 4,
 "nbformat_minor": 5
}
